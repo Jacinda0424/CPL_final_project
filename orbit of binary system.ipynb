{
 "cells": [
  {
   "attachments": {},
   "cell_type": "markdown",
   "metadata": {},
   "source": [
    "## Light Curve drawing \n",
    "##### Procedures\n",
    "1. Setting up a orbit\n",
    "2. Consitute the binary system\n",
    "3. Drawing the light curve\n",
    "##### Parameters\n",
    "1. stellar masses\n",
    "2. orbital period\n",
    "3. orbital eccentricity \n",
    "4. orbital inclination"
   ]
  },
  {
   "cell_type": "code",
   "execution_count": 78,
   "metadata": {},
   "outputs": [],
   "source": [
    "import numpy as np\n",
    "import matplotlib.pyplot as plt\n",
    "import matplotlib.patches as mp \n",
    "import math\n",
    "from numba import jit, int32, float64, njit, prange\n",
    "from astropy import constants as const\n",
    "from astropy import units\n"
   ]
  },
  {
   "cell_type": "code",
   "execution_count": 79,
   "metadata": {},
   "outputs": [],
   "source": [
    "# Some constants (SI unit)\n",
    "G           = const.G\n",
    "AU          = const.au\n",
    "sigma       = const.sigma_sb\n",
    "mass_sun    = const.M_sun\n",
    "pi          = np.pi\n",
    "sin         = np.sin\n",
    "cos         = np.cos\n",
    "asin        = np.arcsin\n",
    "acos        = np.arccos\n"
   ]
  },
  {
   "attachments": {},
   "cell_type": "markdown",
   "metadata": {},
   "source": [
    "In the binary system, stars orbit along an elliptical path, surrounding their COM, which sits the focus for both ellipses. Thus, it's better choose the COM as the origin of the coordinate."
   ]
  },
  {
   "cell_type": "code",
   "execution_count": 80,
   "metadata": {},
   "outputs": [],
   "source": [
    "def star_coor(m1,m2,r,theta,inc):\n",
    "    '''\n",
    "    Assumption: \n",
    "    1. the shape of stars is spherical \n",
    "    2. the stars have circular orbits with synchronous rotation\n",
    "    ##################################################################\n",
    "    input:\n",
    "    m1      : the mass of star1\n",
    "    m2      : the mass of star2\n",
    "    r       : the distance between stars \n",
    "    theta   : the pahse angle\n",
    "    inc     : orbital inclination \n",
    "    ##################################################################\n",
    "    output:\n",
    "    q       : the mass ratio of binary system\n",
    "    X       : the projection of the relative position of the binary on the x axis \n",
    "    Y       : the projection of the relative position of the binary on the y axis \n",
    "    Z       : the projection of the relative position of the binary on the z axis \n",
    "    x1      : the projection of position of star1 on x axis\n",
    "    y1      : the projection of position of star1 on y axis\n",
    "    z1      : the projection of position of star1 on z axis\n",
    "    x2      : the projection of position of star1 on x axis\n",
    "    y2      : the projection of position of star1 on y axis\n",
    "    z2      : the projection of position of star1 on z axis\n",
    "\n",
    "    '''\n",
    "    q = m1/m1 \n",
    "    X = r*sin(theta)\n",
    "    Y = r*cos(theta)*cos(inc)\n",
    "    Z = r*cos(theta)*sin(inc)\n",
    "    x1 = -X/(1+1/q)\n",
    "    y1 = -Y/(1+1/q)\n",
    "    z1 = -Z/(1+1/q)\n",
    "    x2 = X/(1/q)\n",
    "    y2 = Y/(1/q)\n",
    "    z2 = Z/(1/q)"
   ]
  },
  {
   "attachments": {},
   "cell_type": "markdown",
   "metadata": {},
   "source": [
    "Consider the limb-darkening effect and assume the emergent intensity is I0, which emitted from stellar dick center as the blackbody radiation that is descibed by using Stefan-Boltzmann law"
   ]
  },
  {
   "cell_type": "code",
   "execution_count": 81,
   "metadata": {},
   "outputs": [],
   "source": [
    "# def flux_per_stellar_element(sigma,T,x,gamma):\n",
    "#     '''\n",
    "#     The intensity described by the Stefan-Boltzmann law is \n",
    "#     I = sigma x T^4 x (1+x+xcos(gamma))\n",
    "#     x is the limb-darkening coef.\n",
    "#     gamma is an angle betweenthe radius vector and the line-of-sight vector\n",
    "#     '''\n",
    "#     sigma = const.sigma_sb\n"
   ]
  },
  {
   "attachments": {},
   "cell_type": "markdown",
   "metadata": {},
   "source": [
    "For the detached binary system, choose XY cet as the target."
   ]
  },
  {
   "cell_type": "code",
   "execution_count": 82,
   "metadata": {},
   "outputs": [],
   "source": [
    "# Needed parameters of XY cet\n",
    "totalphase  = 2\n",
    "smapling    = 2\n",
    "inc         = 87.6\n",
    "Temp_h      = 7970.0 # temperature of the hotter star\n",
    "# Th\n",
    "Temp_c      = 7620.0 # temperature of the colder star\n",
    "# Tc\n",
    "Mass_h      = 1.773  # mass of the hotter star (solar unit)\n",
    "# Mh\n",
    "Mass_c      = 1.615  # mass of the colder star (solar unit)\n",
    "# Mc\n",
    "Radius_h    = 1.873  # the radius of the hotter star (solar unit)\n",
    "# Rh\n",
    "Radius_c    = 1.773  # the radius of the colder star (solar unit)\n",
    "# Rc\n",
    "semia       = 12.493/Radius_h # the semimajor axis (solar unit)\n",
    "# sma\n",
    "period      = 2.78071392 # the period of the elicpsing (per day)\n",
    "Flux_h      = sigma*(Temp_h*units.K)**4 # the flux of the hotter star\n",
    "# fluxh\n",
    "Flux_c      = sigma*(Temp_c*units.K)**4 # the flux of the colder star\n",
    "# fluxc\n",
    "x_h         = 0 # the limb-darkening coef.\n",
    "# xh\n",
    "x_c         = 0 # the limb-darkening coef.\n",
    "# xc"
   ]
  },
  {
   "attachments": {},
   "cell_type": "markdown",
   "metadata": {},
   "source": [
    "In our simulation, the primary star is always the hotter star; wile the secondary star is always the colder star"
   ]
  },
  {
   "cell_type": "code",
   "execution_count": 83,
   "metadata": {},
   "outputs": [],
   "source": [
    "if (Radius_h > Radius_c): \n",
    "    '''\n",
    "    p: primary star\n",
    "    s: secnodary star\n",
    "    '''\n",
    "    mass_p      = Mass_h/Mass_h\n",
    "    mass_s      = Mass_c/Mass_h\n",
    "    radius_p    = Radius_h/Radius_h\n",
    "    radius_s    = Radius_c/Radius_h\n",
    "    flux_p      = Flux_h/Flux_h\n",
    "    flux_s      = Flux_c/Flux_h\n",
    "    phi         = 0\n",
    "    # the starting angle for the orbit: \n",
    "    # secondary star is in front of the primary star \n",
    "else:\n",
    "    mass_p      = Mass_c/Mass_c\n",
    "    mass_s      = Mass_h/Mass_c\n",
    "    radius_p    = Radius_c/Radius_c\n",
    "    radius_s    = Radius_h/Radius_c\n",
    "    flux_p      = Flux_c/Flux_c\n",
    "    flux_s      = Flux_h/Flux_c\n",
    "    phi         = pi\n",
    "    # the starting angle for the orbit: \n",
    "    # secondary star is behind of the primary star "
   ]
  },
  {
   "attachments": {},
   "cell_type": "markdown",
   "metadata": {},
   "source": [
    "Let's calculate the intensity of the binary system without eclipse"
   ]
  },
  {
   "cell_type": "code",
   "execution_count": 84,
   "metadata": {},
   "outputs": [
    {
     "name": "stdout",
     "output_type": "stream",
     "text": [
      "total intensity of primary star = 3.141453027249633\n",
      "total intensity of secondary star = 2.352117897488358\n"
     ]
    }
   ],
   "source": [
    "# In the codition without eclipse\n",
    "drp1 = np.linspace(0, radius_p, 151)\n",
    "drs1 = np.linspace(0, radius_s, 151)\n",
    "# limb-darkening\n",
    "ldangle_p       = asin((drp1-(drp1[1]-drp1[0])/2)/radius_p)\n",
    "ldangle_s       = asin((drs1-(drs1[1]-drs1[0])/2)/radius_s)\n",
    "ldangle_p[0]    = 0.0\n",
    "ldangle_s[0]    = 0.0\n",
    "# flux\n",
    "ldflux_p = flux_p*(1-x_h*(1-cos(ldangle_p)))\n",
    "ldflux_s = flux_s*(1-x_c*(1-cos(ldangle_s)))\n",
    "# intenisty\n",
    "ldintensity_p = ldflux_p*(drp1-(drp1[1]-drp1[0])/2)*(drp1[1]-drp1[0])*2*pi\n",
    "ldintensity_s = ldflux_s*(drs1-(drs1[1]-drs1[0])/2)*(drs1[1]-drs1[0])*2*pi\n",
    "ttintensity_p = np.sum(ldintensity_p)\n",
    "ttintensity_s = np.sum(ldintensity_s)\n",
    "print('total intensity of primary star =', ttintensity_p)\n",
    "print('total intensity of secondary star =', ttintensity_s)"
   ]
  },
  {
   "cell_type": "code",
   "execution_count": 85,
   "metadata": {},
   "outputs": [
    {
     "name": "stdout",
     "output_type": "stream",
     "text": [
      "1441\n"
     ]
    }
   ],
   "source": [
    "# The inclination angle change with radian\n",
    "inc_change      = np.deg2rad(inc) # deg to rad\n",
    "q               = mass_s/mass_p   # mass ratio\n",
    "ldintensity     = np.array([], dtype=float) \n",
    "luminosity      = np.array([], dtype=float) # y axis is the luminosity\n",
    "phaseset        = np.array([], dtype=float) # x axis is the phase of the binary system\n",
    "phaserange      = np.linspace(0,360,int(totalphase*smapling*360+1))\n",
    "print(len(phaserange))"
   ]
  },
  {
   "cell_type": "code",
   "execution_count": 86,
   "metadata": {},
   "outputs": [
    {
     "name": "stdout",
     "output_type": "stream",
     "text": [
      "1441\n",
      "1441\n"
     ]
    }
   ],
   "source": [
    "# Compute the light curve\n",
    "drp = radius_p/150.0\n",
    "drs = radius_s/150.0\n",
    "for t in phaserange:\n",
    "    phase = t/360\n",
    "    phaseangle = phi + 2*pi*phase\n",
    "    # the projection of the relative position of binary system on the x-y plane\n",
    "    X = semia*sin(phaseangle)\n",
    "    Y = semia*cos(phaseangle)*cos(inc_change)\n",
    "    Z = semia*cos(phaseangle)*sin(inc_change)\n",
    "    # the coordinate of stars\n",
    "    xp = -X/(1+(1/q))\n",
    "    yp = -Y/(1+(1/q))\n",
    "    zp = -Z/(1+(1/q))\n",
    "    xs = X/(1/q)\n",
    "    ys = Y/(1/q)\n",
    "    zs = Z/(1/q)\n",
    "    # the distance between stars on x-y plane\n",
    "    disance = np.hypot(xp-xs,yp-ys)\n",
    "    # initialize \n",
    "    ldintensity     = 0.0\n",
    "    ttintensity     = 0.0\n",
    "    angle_start     = 0.0\n",
    "    # check if there is eclipsing or not\n",
    "    if (disance > (radius_p+radius_s)): \n",
    "        # no eclipse\n",
    "        ttintensity = ttintensity_p+ttintensity_s\n",
    "    elif (disance < (radius_p-radius_s)) and (zp > zs): \n",
    "        # full eclipse and primary star is in front of secondary star\n",
    "        ttintensity = ttintensity_p\n",
    "    ##########################################################################################\n",
    "    # sedondary star is in front of the primary star with the eclipse\n",
    "    if (zs > zp) and (disance < (radius_p+radius_s)):\n",
    "        r_upper = radius_p\n",
    "        r_limit = 0.0\n",
    "        while ((r_upper - drp/2)>=r_limit):\n",
    "            if (r_upper > abs(radius_s-disance)):\n",
    "                theta_p = acos((r_upper**2 - radius_s**2 + disance**2)/(2*disance*r_upper))\n",
    "                # cosine rule\n",
    "            else: # theta_p = 0 or pi\n",
    "                if ((disance-radius_s) > 0):\n",
    "                    theta_p = 0.0\n",
    "                else: \n",
    "                    theta_p = pi\n",
    "            ldangle  = asin((r_upper-drp/2)/radius_p)\n",
    "            # the radius of limb-darkering is the middle of drp\n",
    "            ldeffect = flux_p*(1-x_h*(1-cos(ldangle)))\n",
    "            ldplus   = 0.0\n",
    "            if (theta_p < pi):\n",
    "                dangle  = theta_p-angle_start\n",
    "                ldplus  = ldeffect*drp*r_upper*dangle\n",
    "            intensity   = ldeffect*(r_upper-drp/2)*drp*2*theta_p + ldplus\n",
    "            ldintensity = np.append(ldintensity,intensity)\n",
    "            angle_start = theta_p\n",
    "            r_upper     -= drp\n",
    "            # until r_upper < r_limit, stop the loop\n",
    "        ecilpse     = np.sum(ldintensity)\n",
    "        ttintensity = ttintensity_p + ttintensity_s - ecilpse\n",
    "    ##########################################################################################\n",
    "    # primary star is in front of the secondary star with the eclipse\n",
    "    if (zs < zp) and ((radius_p-radius_s) < disance < (radius_p+radius_s)):\n",
    "        r_upper = radius_s\n",
    "        r_limit = 0.0\n",
    "        while ((r_upper - drs/2)>=r_limit):\n",
    "            if (r_upper > abs(radius_p-disance)):\n",
    "                theta_p = acos((r_upper**2 - radius_p**2 + disance**2)/(2*disance*r_upper))\n",
    "                # cosine rule\n",
    "            else: # theta_p = 0 or pi\n",
    "                if ((disance-radius_p) > 0):\n",
    "                    theta_p = 0.0\n",
    "                else: \n",
    "                    theta_p = pi\n",
    "            ldangle  = asin((r_upper-drs/2)/radius_s)\n",
    "            # the radius of limb-darkering is the middle of drp\n",
    "            ldeffect = flux_s*(1-x_c*(1-cos(ldangle)))\n",
    "            ldplus   = 0.0\n",
    "            if (theta_p < pi):\n",
    "                dangle  = theta_p-angle_start\n",
    "                ldplus  = ldeffect*drp*r_upper*dangle\n",
    "            intensity   = ldeffect*(r_upper-drs/2)*drs*2*theta_p + ldplus\n",
    "            ldintensity = np.append(ldintensity,intensity)\n",
    "            angle_start = theta_p\n",
    "            r_upper     -= drs\n",
    "            # until r_upper < r_limit, stop the loop\n",
    "        ecilpse     = np.sum(ldintensity)\n",
    "        ttintensity = ttintensity_p + ttintensity_s - ecilpse\n",
    "    luminosity = np.append(luminosity,ttintensity)\n",
    "    phaseset   = np.append(phaseset,phase)\n",
    "\n",
    "print(len(luminosity))\n",
    "print(len(phaseset))\n"
   ]
  },
  {
   "attachments": {},
   "cell_type": "markdown",
   "metadata": {},
   "source": [
    "Check the flux"
   ]
  },
  {
   "cell_type": "code",
   "execution_count": 87,
   "metadata": {},
   "outputs": [
    {
     "name": "stdout",
     "output_type": "stream",
     "text": [
      "2882\n",
      "2882\n"
     ]
    }
   ],
   "source": [
    "flux_max   = np.max(luminosity)\n",
    "flux_ratio = luminosity/flux_max\n",
    "flux_ratio = np.append(flux_ratio,flux_ratio)\n",
    "phaseset   = np.append(phaseset,phaseset-1)\n",
    "index      = np.argsort(phaseset)\n",
    "print(len(phaseset))\n",
    "print(len(flux_ratio))\n",
    "phaseset   = phaseset[index]\n",
    "flux_ratio = flux_ratio[index]\n"
   ]
  },
  {
   "attachments": {},
   "cell_type": "markdown",
   "metadata": {},
   "source": [
    "Plotting the light curve"
   ]
  },
  {
   "cell_type": "code",
   "execution_count": 88,
   "metadata": {},
   "outputs": [
    {
     "data": {
      "image/png": "[encoded data removed]",
      "text/plain": [
       "<Figure size 640x480 with 1 Axes>"
      ]
     },
     "metadata": {},
     "output_type": "display_data"
    }
   ],
   "source": [
    "plt.figure()\n",
    "plt.ylim(0.4,1.1)\n",
    "plt.xlim(-1,1)\n",
    "plt.plot(phaseset,flux_ratio,'r-',label='synthesis')\n",
    "plt.title('XY Cet Light Curve')\n",
    "plt.ylabel('Luminosity')\n",
    "plt.xlabel('Phase')\n",
    "plt.minorticks_on()"
   ]
  },
  {
   "cell_type": "code",
   "execution_count": null,
   "metadata": {},
   "outputs": [],
   "source": []
  }
 ],
 "metadata": {
  "kernelspec": {
   "display_name": "comphyslab",
   "language": "python",
   "name": "python3"
  },
  "language_info": {
   "codemirror_mode": {
    "name": "ipython",
    "version": 3
   },
   "file_extension": ".py",
   "mimetype": "text/x-python",
   "name": "python",
   "nbconvert_exporter": "python",
   "pygments_lexer": "ipython3",
   "version": "3.9.13"
  },
  "orig_nbformat": 4,
  "vscode": {
   "interpreter": {
    "hash": "11d0afeea6409efc68f432511c795eaae41895660d453cb0d8ece361e7d4c0b1"
   }
  }
 },
 "nbformat": 4,
 "nbformat_minor": 2
}
